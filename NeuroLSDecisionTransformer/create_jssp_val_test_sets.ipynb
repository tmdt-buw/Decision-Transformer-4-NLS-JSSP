{
 "cells": [
  {
   "cell_type": "markdown",
   "metadata": {
    "collapsed": true,
    "pycharm": {
     "name": "#%% md\n"
    }
   },
   "source": [
    "Creating Val and Test sets\n"
   ]
  },
  {
   "cell_type": "code",
   "execution_count": 3,
   "outputs": [],
   "source": [
    "%load_ext autoreload\n",
    "%autoreload 2\n"
   ],
   "metadata": {
    "collapsed": false,
    "pycharm": {
     "name": "#%%\n"
    },
    "ExecuteTime": {
     "end_time": "2023-12-03T00:05:33.838403400Z",
     "start_time": "2023-12-03T00:05:33.819869400Z"
    }
   }
  },
  {
   "cell_type": "code",
   "execution_count": 3,
   "outputs": [
    {
     "name": "stdout",
     "output_type": "stream",
     "text": [
      "pytorch v: 1.10.0 (cuda: 11.3)\n",
      "tianshou v: 0.4.5\n"
     ]
    }
   ],
   "source": [
    "from lib.scheduling import JSSPGenerator\n"
   ],
   "metadata": {
    "collapsed": false,
    "pycharm": {
     "name": "#%%\n"
    },
    "ExecuteTime": {
     "end_time": "2023-12-11T22:21:53.816655800Z",
     "start_time": "2023-12-11T22:21:48.174405Z"
    }
   }
  },
  {
   "cell_type": "code",
   "execution_count": 1,
   "outputs": [],
   "source": [
    "# global\n",
    "VSEED = 456\n",
    "TSEED = 999\n",
    "PROBLEM = \"JSSP\"\n",
    "VSIZE = 1\n",
    "TSIZE = 1000\n",
    "NUM_JOB = [50]\n",
    "NUM_MCH = [20]\n",
    "\n",
    "# specific sampling args\n",
    "#dur_sampling_dist = \"gaussian_mixture\"\n",
    "dur_sampling_dist = \"uniform\"\n",
    "\n",
    "# save paths\n",
    "vname = f\"t_{VSEED}.pt\"\n",
    "tname = f\"train_data_1000.pt\""
   ],
   "metadata": {
    "collapsed": false,
    "pycharm": {
     "name": "#%%\n"
    },
    "ExecuteTime": {
     "end_time": "2023-12-11T22:21:39.868908900Z",
     "start_time": "2023-12-11T22:21:39.815391300Z"
    }
   }
  },
  {
   "cell_type": "code",
   "execution_count": 4,
   "outputs": [],
   "source": [
    "for VSEED in range(456,457):\n",
    "    for n_j, n_m in zip(NUM_JOB, NUM_MCH):\n",
    "        save_pth = f\"./data/{PROBLEM}/{PROBLEM.lower()}{n_j}x{n_m}\"\n",
    "\n",
    "        gen = JSSPGenerator(seed=VSEED, verbose=True)\n",
    "        # val_data = gen.generate(problem=PROBLEM, sample_size=VSIZE, num_jobs=n_j, num_machines=n_m)\n",
    "        # gen.save_dataset(val_data, filepath=save_pth, fname=f\"t_{VSEED}.pt\")\n",
    "\n",
    "        gen.seed(seed=TSEED)\n",
    "        test_data = gen.generate(problem=PROBLEM, sample_size=TSIZE, num_jobs=n_j, num_machines=n_m)\n",
    "        gen.save_dataset(test_data, filepath=save_pth, fname=tname)\n"
   ],
   "metadata": {
    "collapsed": false,
    "pycharm": {
     "name": "#%%\n"
    },
    "ExecuteTime": {
     "end_time": "2023-12-11T22:21:54.192415Z",
     "start_time": "2023-12-11T22:21:53.827179300Z"
    }
   }
  },
  {
   "cell_type": "code",
   "execution_count": 9,
   "outputs": [
    {
     "data": {
      "text/plain": "'/mnt/c/Users/fabia/OneDrive/MyUni/Masterarbeit/NeuroLS_DecisionTransformer'"
     },
     "execution_count": 9,
     "metadata": {},
     "output_type": "execute_result"
    }
   ],
   "source": [
    "import os\n",
    "os.getcwd()"
   ],
   "metadata": {
    "collapsed": false,
    "ExecuteTime": {
     "end_time": "2023-11-29T14:21:31.320666600Z",
     "start_time": "2023-11-29T14:21:30.503587700Z"
    }
   }
  },
  {
   "cell_type": "code",
   "execution_count": null,
   "outputs": [],
   "source": [],
   "metadata": {
    "collapsed": false
   }
  }
 ],
 "metadata": {
  "kernelspec": {
   "display_name": "Python 3",
   "language": "python",
   "name": "python3"
  },
  "language_info": {
   "codemirror_mode": {
    "name": "ipython",
    "version": 2
   },
   "file_extension": ".py",
   "mimetype": "text/x-python",
   "name": "python",
   "nbconvert_exporter": "python",
   "pygments_lexer": "ipython2",
   "version": "2.7.6"
  }
 },
 "nbformat": 4,
 "nbformat_minor": 0
}
