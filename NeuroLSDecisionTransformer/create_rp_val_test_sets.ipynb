{
 "cells": [
  {
   "cell_type": "markdown",
   "metadata": {
    "collapsed": true,
    "pycharm": {
     "name": "#%% md\n"
    }
   },
   "source": [
    "Creating Val and Test sets\n"
   ]
  },
  {
   "cell_type": "code",
   "execution_count": 1,
   "outputs": [],
   "source": [
    "%load_ext autoreload\n",
    "%autoreload 2\n"
   ],
   "metadata": {
    "collapsed": false,
    "pycharm": {
     "name": "#%%\n"
    }
   }
  },
  {
   "cell_type": "code",
   "execution_count": 2,
   "outputs": [
    {
     "name": "stdout",
     "output_type": "stream",
     "text": [
      "pytorch v: 1.10.0 (cuda: 11.3)\n",
      "tianshou v: 0.4.5\n"
     ]
    }
   ],
   "source": [
    "from lib.routing import RPGenerator\n"
   ],
   "metadata": {
    "collapsed": false,
    "pycharm": {
     "name": "#%%\n"
    }
   }
  },
  {
   "cell_type": "code",
   "execution_count": 3,
   "outputs": [],
   "source": [
    "# global\n",
    "VSEED = 123\n",
    "TSEED = 234\n",
    "PROBLEM = \"CVRP\"\n",
    "#PROBLEM = \"TSP\"\n",
    "VSIZE = 512\n",
    "TSIZE = 1000\n",
    "GRAPH_SIZES =   [50, 100, 200, 500]\n",
    "NUM_V =         [16, 32,  48,  64]\n",
    "CAPACITY =      [40, 50,  50,  50]\n",
    "\n",
    "# specific sampling args\n",
    "#coords_sampling_dist = \"gaussian_mixture\"\n",
    "coords_sampling_dist = \"uniform\"\n",
    "\n",
    "# save paths\n",
    "vname = f\"data_val_seed{VSEED}_size{VSIZE}_{coords_sampling_dist}.pt\"\n",
    "tname = f\"data_test_seed{TSEED}_size{TSIZE}_{coords_sampling_dist}.pt\""
   ],
   "metadata": {
    "collapsed": false,
    "pycharm": {
     "name": "#%%\n"
    }
   }
  },
  {
   "cell_type": "code",
   "execution_count": 5,
   "outputs": [
    {
     "name": "stdout",
     "output_type": "stream",
     "text": [
      "Sampling 512 problems with graph of size 50+1.\n",
      "Sampling 1000 problems with graph of size 50+1.\n",
      "Sampling 512 problems with graph of size 100+1.\n",
      "Sampling 1000 problems with graph of size 100+1.\n",
      "Sampling 512 problems with graph of size 200+1.\n",
      "Sampling 1000 problems with graph of size 200+1.\n",
      "Sampling 512 problems with graph of size 500+1.\n",
      "Sampling 1000 problems with graph of size 500+1.\n"
     ]
    }
   ],
   "source": [
    "for g_size, k, cap in zip(GRAPH_SIZES, NUM_V, CAPACITY):\n",
    "    save_pth = f\"./data/{PROBLEM}/{PROBLEM.lower()}{g_size}\"\n",
    "\n",
    "    gen = RPGenerator(seed=VSEED, verbose=True, coords_sampling_dist=coords_sampling_dist)\n",
    "    val_data = gen.generate(problem=PROBLEM, sample_size=VSIZE, graph_size=g_size, k=k, cap=cap)\n",
    "    gen.save_dataset(val_data, filepath=save_pth, fname=vname)\n",
    "\n",
    "    gen.seed(seed=TSEED)\n",
    "    test_data = gen.generate(problem=PROBLEM, sample_size=TSIZE, graph_size=g_size, k=k, cap=cap)\n",
    "    gen.save_dataset(test_data, filepath=save_pth, fname=tname)\n"
   ],
   "metadata": {
    "collapsed": false,
    "pycharm": {
     "name": "#%%\n"
    }
   }
  },
  {
   "cell_type": "code",
   "execution_count": null,
   "outputs": [],
   "source": [],
   "metadata": {
    "collapsed": false,
    "pycharm": {
     "name": "#%%\n"
    }
   }
  }
 ],
 "metadata": {
  "kernelspec": {
   "display_name": "Python 3",
   "language": "python",
   "name": "python3"
  },
  "language_info": {
   "codemirror_mode": {
    "name": "ipython",
    "version": 2
   },
   "file_extension": ".py",
   "mimetype": "text/x-python",
   "name": "python",
   "nbconvert_exporter": "python",
   "pygments_lexer": "ipython2",
   "version": "2.7.6"
  }
 },
 "nbformat": 4,
 "nbformat_minor": 0
}